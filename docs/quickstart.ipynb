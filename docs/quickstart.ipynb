{
 "cells": [
  {
   "cell_type": "code",
   "execution_count": 63,
   "metadata": {},
   "outputs": [
    {
     "name": "stdout",
     "output_type": "stream",
     "text": [
      ":ok\n",
      "\n"
     ]
    }
   ],
   "source": [
    "%%bash\n",
    "cd /home/jovyan\n",
    "#cd /srv/conda/envs/notebook/lib/python3.7/site-packages/beakerx/kernel/clojure/\n",
    "\n",
    "java -cp \"/srv/conda/envs/notebook/lib/python3.7/site-packages/beakerx/kernel/clojure/lib/core.specs.alpha-0.1.24.jar:/srv/conda/envs/notebook/lib/python3.7/site-packages/beakerx/kernel/clojure/lib/clojure-1.9.0.jar:/srv/conda/envs/notebook/lib/python3.7/site-packages/beakerx/kernel/clojure/lib/spec.alpha-0.1.143.jar\" clojure.main -e \":ok\"\n",
    "\n",
    " "
   ]
  },
  {
   "cell_type": "code",
   "execution_count": null,
   "metadata": {},
   "outputs": [
    {
     "data": {
      "application/vnd.jupyter.widget-view+json": {
       "model_id": "",
       "version_major": 2,
       "version_minor": 0
      },
      "method": "display_data"
     },
     "metadata": {},
     "output_type": "display_data"
    },
    {
     "data": {
      "application/vnd.jupyter.widget-view+json": {
       "model_id": "cb3691b7-de1a-41b2-86d8-bc71948573d6",
       "version_major": 2,
       "version_minor": 0
      },
      "method": "display_data"
     },
     "metadata": {},
     "output_type": "display_data"
    }
   ],
   "source": [
    "%classpath add mvn scicloj scicloj.ml \"0.1.0-beta3\""
   ]
  },
  {
   "cell_type": "code",
   "execution_count": null,
   "metadata": {},
   "outputs": [],
   "source": [
    "(require '[scicloj.ml.core :as ml]\n",
    "         '[scicloj.ml.metamorph :as mm]\n",
    "         '[scicloj.ml.dataset :as ds])"
   ]
  },
  {
   "cell_type": "code",
   "execution_count": null,
   "metadata": {},
   "outputs": [],
   "source": [
    "(def titanic-train\n",
    "  (->\n",
    "   (ds/dataset \"https://github.com/scicloj/metamorph-examples/raw/main/data/titanic/train.csv\"\n",
    "               {:key-fn keyword\n",
    "                :parser-fn :string})))\n",
    "                \n",
    "(def titanic-test\n",
    "  (->\n",
    "   (ds/dataset \"https://github.com/scicloj/metamorph-examples/raw/main/data/titanic/test.csv\"\n",
    "               {:key-fn keyword\n",
    "                :parser-fn :string})\n",
    "   (ds/add-column :Survived [\"\"] :cycle)))\n",
    "   \n",
    "   \n",
    ";; construct pipeline function including Logistic Regression model\n",
    "(def pipe-fn\n",
    "  (ml/pipeline\n",
    "   (mm/select-columns [:Survived :Pclass ])\n",
    "   (mm/add-column :Survived (fn [ds] (map #(case % \"1\" \"yes\" \"0\" \"no\" nil \"\") (:Survived ds))))\n",
    "   (mm/categorical->number [:Survived :Pclass])\n",
    "   (mm/set-inference-target :Survived)\n",
    "   (mm/model {:model-type :smile.classification/logistic-regression})))\n",
    "   \n",
    ";;  execute pipeline with train data including model in mode :fit\n",
    "(def trained-ctx\n",
    "  (pipe-fn {:metamorph/data titanic-train\n",
    "            :metamorph/mode :fit}))\n",
    "\n",
    "\n",
    ";; execute pipeline in mode :transform with test data which will do a prediction \n",
    "(def test-ctx\n",
    "  (pipe-fn\n",
    "   (assoc trained-ctx\n",
    "          :metamorph/data titanic-test\n",
    "          :metamorph/mode :transform)))\n",
    "\n",
    ";; extract prediction from pipeline function result\n",
    "(-> test-ctx :metamorph/data\n",
    "    (ds/column-values->categorical :Survived))"
   ]
  }
 ],
 "metadata": {
  "beakerx_kernel_parameters": {},
  "kernelspec": {
   "display_name": "Clojure",
   "language": "clojure",
   "name": "clojure"
  },
  "language_info": {
   "codemirror_mode": "Clojure",
   "file_extension": ".clj",
   "mimetype": "text/x-clojure",
   "name": "Clojure",
   "nbconverter_exporter": "",
   "version": "1.9.0"
  },
  "toc": {
   "base_numbering": 1,
   "nav_menu": {},
   "number_sections": false,
   "sideBar": false,
   "skip_h1_title": false,
   "title_cell": "Table of Contents",
   "title_sidebar": "Contents",
   "toc_cell": false,
   "toc_position": {},
   "toc_section_display": false,
   "toc_window_display": false
  }
 },
 "nbformat": 4,
 "nbformat_minor": 2
}
