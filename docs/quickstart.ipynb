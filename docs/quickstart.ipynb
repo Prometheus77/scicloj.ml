{
 "cells": [
  {
   "cell_type": "code",
   "execution_count": null,
   "metadata": {},
   "outputs": [],
   "source": [
    "%classpath add mvn scicloj scicloj.ml \"0.2.1\""
   ]
  },
  {
   "cell_type": "code",
   "execution_count": null,
   "metadata": {},
   "outputs": [],
   "source": [
    "(require '[scicloj.ml.core :as ml]\n",
    "         '[scicloj.ml.metamorph :as mm]\n",
    "         '[scicloj.ml.dataset :as ds])"
   ]
  },
  {
   "cell_type": "code",
   "execution_count": null,
   "metadata": {},
   "outputs": [],
   "source": [
    "(def titanic-train\n",
    "  (->\n",
    "   (ds/dataset \"https://github.com/scicloj/metamorph-examples/raw/main/data/titanic/train.csv\"\n",
    "               {:key-fn keyword\n",
    "                :parser-fn :string})))\n",
    "                \n",
    "(def titanic-test\n",
    "  (->\n",
    "   (ds/dataset \"https://github.com/scicloj/metamorph-examples/raw/main/data/titanic/test.csv\"\n",
    "               {:key-fn keyword\n",
    "                :parser-fn :string})\n",
    "   (ds/add-column :Survived [\"\"] :cycle)))\n",
    "   \n",
    "   "
   ]
  },
  {
   "cell_type": "code",
   "execution_count": null,
   "metadata": {},
   "outputs": [],
   "source": [
    ";; construct pipeline function including Logistic Regression model\n",
    "(def pipe-fn\n",
    "  (ml/pipeline\n",
    "   (mm/select-columns [:Survived :Pclass ])\n",
    "   (mm/add-column :Survived (fn [ds] (map #(case % \"1\" \"yes\" \"0\" \"no\" nil \"\") (:Survived ds))))\n",
    "   (mm/categorical->number [:Survived :Pclass])\n",
    "   (mm/set-inference-target :Survived)\n",
    "   (mm/model {:model-type :smile.classification/logistic-regression})))\n",
    "   \n",
    ";;  execute pipeline with train data including model in mode :fit\n",
    "(def trained-ctx\n",
    "  (pipe-fn {:metamorph/data titanic-train\n",
    "            :metamorph/mode :fit}))\n",
    "\n",
    "\n",
    ";; execute pipeline in mode :transform with test data which will do a prediction \n",
    "(def test-ctx\n",
    "  (pipe-fn\n",
    "   (assoc trained-ctx\n",
    "          :metamorph/data titanic-test\n",
    "          :metamorph/mode :transform)))"
   ]
  },
  {
   "cell_type": "code",
   "execution_count": null,
   "metadata": {},
   "outputs": [],
   "source": [
    ";; extract prediction from pipeline function result\n",
    "(-> test-ctx :metamorph/data\n",
    "    (ds/column-values->categorical :Survived))"
   ]
  }
 ],
 "metadata": {
  "beakerx_kernel_parameters": {},
  "kernelspec": {
   "display_name": "Clojure",
   "language": "clojure",
   "name": "clojure"
  },
  "language_info": {
   "codemirror_mode": "Clojure",
   "file_extension": ".clj",
   "mimetype": "text/x-clojure",
   "name": "Clojure",
   "nbconverter_exporter": "",
   "version": "1.9.0"
  },
  "toc": {
   "base_numbering": 1,
   "nav_menu": {},
   "number_sections": false,
   "sideBar": false,
   "skip_h1_title": false,
   "title_cell": "Table of Contents",
   "title_sidebar": "Contents",
   "toc_cell": false,
   "toc_position": {},
   "toc_section_display": false,
   "toc_window_display": false
  }
 },
 "nbformat": 4,
 "nbformat_minor": 2
}
